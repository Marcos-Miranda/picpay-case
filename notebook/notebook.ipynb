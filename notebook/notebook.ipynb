{
 "cells": [
  {
   "cell_type": "markdown",
   "metadata": {},
   "source": [
    "## Imports/setup"
   ]
  },
  {
   "cell_type": "code",
   "execution_count": 44,
   "metadata": {},
   "outputs": [
    {
     "data": {
      "text/plain": [
       "True"
      ]
     },
     "execution_count": 44,
     "metadata": {},
     "output_type": "execute_result"
    }
   ],
   "source": [
    "import os\n",
    "import pickle\n",
    "from datetime import datetime, timedelta\n",
    "from io import BytesIO\n",
    "from pathlib import Path\n",
    "from zipfile import ZipFile\n",
    "\n",
    "import pandas as pd\n",
    "import pyspark.sql.functions as F\n",
    "import pyspark.sql.types as T\n",
    "import requests\n",
    "from dotenv import load_dotenv\n",
    "from pyspark.sql import DataFrame, SparkSession\n",
    "from sklearn.compose import ColumnTransformer\n",
    "from sklearn.ensemble import RandomForestRegressor\n",
    "from sklearn.impute import SimpleImputer\n",
    "from sklearn.metrics import mean_absolute_error, r2_score, root_mean_squared_error\n",
    "from sklearn.model_selection import train_test_split\n",
    "from sklearn.pipeline import Pipeline\n",
    "from sklearn.preprocessing import OrdinalEncoder\n",
    "\n",
    "spark: SparkSession = SparkSession.builder.getOrCreate()\n",
    "load_dotenv()"
   ]
  },
  {
   "cell_type": "markdown",
   "metadata": {},
   "source": [
    "## Download/leitura do dataset"
   ]
  },
  {
   "cell_type": "code",
   "execution_count": 2,
   "metadata": {},
   "outputs": [],
   "source": [
    "def load_dataset() -> DataFrame:\n",
    "    dataset_url = \"https://github.com/PicPay/case-machine-learning-engineer-pleno/raw/main/notebook/airports-database.zip\"\n",
    "    dataset_file = \"airports-database.csv\"\n",
    "    dataset_path = Path(\"../data\", dataset_file)\n",
    "    if not dataset_path.exists():\n",
    "        ZipFile(BytesIO(requests.get(dataset_url).content)).extract(dataset_file, dataset_path.parent)\n",
    "    return spark.read.csv(dataset_path.as_posix(), header=True, inferSchema=True)"
   ]
  },
  {
   "cell_type": "code",
   "execution_count": 3,
   "metadata": {},
   "outputs": [
    {
     "name": "stdout",
     "output_type": "stream",
     "text": [
      "+---+----+-----+---+--------+--------------+---------+--------+--------------+---------+-------+------+-------+------+----+--------+--------+----+------+-------------------+--------------------+\n",
      "| id|year|month|day|dep_time|sched_dep_time|dep_delay|arr_time|sched_arr_time|arr_delay|carrier|flight|tailnum|origin|dest|air_time|distance|hour|minute|          time_hour|                name|\n",
      "+---+----+-----+---+--------+--------------+---------+--------+--------------+---------+-------+------+-------+------+----+--------+--------+----+------+-------------------+--------------------+\n",
      "|  0|2013|    1|  1|   517.0|           515|      2.0|   830.0|           819|     11.0|     UA|  1545| N14228|   EWR| IAH|   227.0|    1400|   5|    15|2013-01-01 05:00:00|United Air Lines ...|\n",
      "|  1|2013|    1|  1|   533.0|           529|      4.0|   850.0|           830|     20.0|     UA|  1714| N24211|   LGA| IAH|   227.0|    1416|   5|    29|2013-01-01 05:00:00|United Air Lines ...|\n",
      "|  2|2013|    1|  1|   542.0|           540|      2.0|   923.0|           850|     33.0|     AA|  1141| N619AA|   JFK| MIA|   160.0|    1089|   5|    40|2013-01-01 05:00:00|American Airlines...|\n",
      "+---+----+-----+---+--------+--------------+---------+--------+--------------+---------+-------+------+-------+------+----+--------+--------+----+------+-------------------+--------------------+\n",
      "only showing top 3 rows\n",
      "\n",
      "root\n",
      " |-- id: integer (nullable = true)\n",
      " |-- year: integer (nullable = true)\n",
      " |-- month: integer (nullable = true)\n",
      " |-- day: integer (nullable = true)\n",
      " |-- dep_time: double (nullable = true)\n",
      " |-- sched_dep_time: integer (nullable = true)\n",
      " |-- dep_delay: double (nullable = true)\n",
      " |-- arr_time: double (nullable = true)\n",
      " |-- sched_arr_time: integer (nullable = true)\n",
      " |-- arr_delay: double (nullable = true)\n",
      " |-- carrier: string (nullable = true)\n",
      " |-- flight: integer (nullable = true)\n",
      " |-- tailnum: string (nullable = true)\n",
      " |-- origin: string (nullable = true)\n",
      " |-- dest: string (nullable = true)\n",
      " |-- air_time: double (nullable = true)\n",
      " |-- distance: integer (nullable = true)\n",
      " |-- hour: integer (nullable = true)\n",
      " |-- minute: integer (nullable = true)\n",
      " |-- time_hour: timestamp (nullable = true)\n",
      " |-- name: string (nullable = true)\n",
      "\n"
     ]
    }
   ],
   "source": [
    "df = load_dataset()\n",
    "df.show(3)\n",
    "df.printSchema()"
   ]
  },
  {
   "cell_type": "markdown",
   "metadata": {},
   "source": [
    "## Perguntas"
   ]
  },
  {
   "cell_type": "markdown",
   "metadata": {},
   "source": [
    "### 1. Qual é o número total de voos no conjunto de dados?"
   ]
  },
  {
   "cell_type": "code",
   "execution_count": 4,
   "metadata": {},
   "outputs": [
    {
     "data": {
      "text/plain": [
       "336776"
      ]
     },
     "execution_count": 4,
     "metadata": {},
     "output_type": "execute_result"
    }
   ],
   "source": [
    "df.count()"
   ]
  },
  {
   "cell_type": "markdown",
   "metadata": {},
   "source": [
    "### 2. Quantos voos foram cancelados? (Considerando que voos cancelados têm dep_time e arr_time nulos)"
   ]
  },
  {
   "cell_type": "code",
   "execution_count": 10,
   "metadata": {},
   "outputs": [
    {
     "data": {
      "text/plain": [
       "8255"
      ]
     },
     "execution_count": 10,
     "metadata": {},
     "output_type": "execute_result"
    }
   ],
   "source": [
    "df.filter((df[\"dep_time\"].isNull()) & (df[\"arr_time\"].isNull())).count()"
   ]
  },
  {
   "cell_type": "markdown",
   "metadata": {},
   "source": [
    "### 3. Qual é o atraso médio na partida dos voos (dep_delay)?"
   ]
  },
  {
   "cell_type": "code",
   "execution_count": 38,
   "metadata": {},
   "outputs": [
    {
     "name": "stdout",
     "output_type": "stream",
     "text": [
      "+------------------+\n",
      "|    avg(dep_delay)|\n",
      "+------------------+\n",
      "|12.639070257304708|\n",
      "+------------------+\n",
      "\n"
     ]
    }
   ],
   "source": [
    "# \"atraso médio\" é um pouco ambíguo aqui porque um \"atraso\" poderia considerar apenas dep_delay > 0.\n",
    "# Nesta e em outras questões que pedem o atraso médio vou considerar todos os valores das colunas dep_delay e arr_delay,\n",
    "# mas pode ser que a intenção fosse manter apenas os atrasos de fato.\n",
    "df.select(F.mean(\"dep_delay\")).show()"
   ]
  },
  {
   "cell_type": "markdown",
   "metadata": {},
   "source": [
    "### 4. Quais são os 5 aeroportos com maior número de pousos?"
   ]
  },
  {
   "cell_type": "code",
   "execution_count": 15,
   "metadata": {},
   "outputs": [
    {
     "name": "stdout",
     "output_type": "stream",
     "text": [
      "+----+-----+\n",
      "|dest|count|\n",
      "+----+-----+\n",
      "| ATL|16873|\n",
      "| ORD|16607|\n",
      "| LAX|16058|\n",
      "| BOS|15028|\n",
      "| MCO|13979|\n",
      "+----+-----+\n",
      "\n"
     ]
    }
   ],
   "source": [
    "df.filter(df[\"arr_time\"].isNotNull()).groupBy(\"dest\").count().orderBy(\"count\", ascending=False).limit(5).show()"
   ]
  },
  {
   "cell_type": "markdown",
   "metadata": {},
   "source": [
    "### 5. Qual é a rota mais frequente (par origin-dest)?"
   ]
  },
  {
   "cell_type": "code",
   "execution_count": 6,
   "metadata": {},
   "outputs": [
    {
     "name": "stdout",
     "output_type": "stream",
     "text": [
      "+-------+-----+\n",
      "|   rota|count|\n",
      "+-------+-----+\n",
      "|JFK-LAX|11262|\n",
      "+-------+-----+\n",
      "\n"
     ]
    }
   ],
   "source": [
    "df.withColumn(\"rota\", F.concat(\"origin\", F.lit(\"-\"), \"dest\")).groupBy(\"rota\").count().orderBy(\n",
    "    \"count\", ascending=False\n",
    ").limit(1).show()"
   ]
  },
  {
   "cell_type": "markdown",
   "metadata": {},
   "source": [
    "### 6. Quais são as 5 companhias aéreas com maior tempo médio de atraso na chegada? (Exiba também o tempo)"
   ]
  },
  {
   "cell_type": "code",
   "execution_count": 41,
   "metadata": {},
   "outputs": [
    {
     "name": "stdout",
     "output_type": "stream",
     "text": [
      "+---------------------------+------------------+\n",
      "|name                       |avg(arr_delay)    |\n",
      "+---------------------------+------------------+\n",
      "|Frontier Airlines Inc.     |21.920704845814978|\n",
      "|AirTran Airways Corporation|20.115905511811025|\n",
      "|ExpressJet Airlines Inc.   |15.79643108710965 |\n",
      "|Mesa Airlines Inc.         |15.556985294117647|\n",
      "|SkyWest Airlines Inc.      |11.931034482758621|\n",
      "+---------------------------+------------------+\n",
      "\n"
     ]
    }
   ],
   "source": [
    "df.groupBy(\"name\").agg({\"arr_delay\": \"avg\"}).orderBy(\"avg(arr_delay)\", ascending=False).limit(5).show(truncate=False)"
   ]
  },
  {
   "cell_type": "markdown",
   "metadata": {},
   "source": [
    "### 7. Qual é o dia da semana com maior número de voos?"
   ]
  },
  {
   "cell_type": "code",
   "execution_count": 21,
   "metadata": {},
   "outputs": [
    {
     "name": "stdout",
     "output_type": "stream",
     "text": [
      "+----------+-----+\n",
      "|dia_semana|count|\n",
      "+----------+-----+\n",
      "|    Monday|50690|\n",
      "+----------+-----+\n",
      "\n"
     ]
    }
   ],
   "source": [
    "df.withColumn(\"dia_semana\", F.date_format(\"time_hour\", \"EEEE\")).groupBy(\"dia_semana\").count().orderBy(\n",
    "    \"count\", ascending=False\n",
    ").limit(1).show()"
   ]
  },
  {
   "cell_type": "markdown",
   "metadata": {},
   "source": [
    "### 8. Qual o percentual mensal dos voos tiveram atraso na partida superior a 30 minutos?"
   ]
  },
  {
   "cell_type": "code",
   "execution_count": 24,
   "metadata": {},
   "outputs": [],
   "source": [
    "@F.pandas_udf(T.DoubleType())\n",
    "def delay_percent(s: pd.Series) -> float:\n",
    "    return (s > 30).mean() * 100"
   ]
  },
  {
   "cell_type": "code",
   "execution_count": 30,
   "metadata": {},
   "outputs": [
    {
     "name": "stdout",
     "output_type": "stream",
     "text": [
      "+-----+------------------------------+\n",
      "|month|percentual_atraso_maior_30_min|\n",
      "+-----+------------------------------+\n",
      "|    1|            12.649624287278632|\n",
      "|    2|            13.431827775432673|\n",
      "|    3|            15.404139706145212|\n",
      "|    4|            16.379871303593376|\n",
      "|    5|            15.641270853256827|\n",
      "|    6|             20.99214217522215|\n",
      "|    7|             21.67105494119712|\n",
      "|    8|             14.69435872542561|\n",
      "|    9|             8.918958778851117|\n",
      "|   10|             9.412626950057586|\n",
      "|   11|             8.832994266691326|\n",
      "|   12|            17.967539653264478|\n",
      "+-----+------------------------------+\n",
      "\n"
     ]
    }
   ],
   "source": [
    "df.filter(df[\"dep_time\"].isNotNull()).groupBy(\"month\").agg(\n",
    "    delay_percent(\"dep_delay\").alias(\"percentual_atraso_maior_30_min\")\n",
    ").show()"
   ]
  },
  {
   "cell_type": "markdown",
   "metadata": {},
   "source": [
    "### 9. Qual a origem mais comum para voos que pousaram em Seattle (SEA)?"
   ]
  },
  {
   "cell_type": "code",
   "execution_count": 11,
   "metadata": {},
   "outputs": [
    {
     "name": "stdout",
     "output_type": "stream",
     "text": [
      "+------+-----+\n",
      "|origin|count|\n",
      "+------+-----+\n",
      "|   JFK| 2079|\n",
      "+------+-----+\n",
      "\n"
     ]
    }
   ],
   "source": [
    "df.filter((df[\"arr_time\"].isNotNull()) & (df[\"dest\"] == \"SEA\")).groupBy(\"origin\").count().orderBy(\n",
    "    \"count\", ascending=False\n",
    ").limit(1).show()"
   ]
  },
  {
   "cell_type": "markdown",
   "metadata": {},
   "source": [
    "### 10. Qual é a média de atraso na partida dos voos (dep_delay) para cada dia da semana?"
   ]
  },
  {
   "cell_type": "code",
   "execution_count": 39,
   "metadata": {},
   "outputs": [
    {
     "name": "stdout",
     "output_type": "stream",
     "text": [
      "+----------+------------------+\n",
      "|dia_semana|    avg(dep_delay)|\n",
      "+----------+------------------+\n",
      "| Wednesday|11.803512219083876|\n",
      "|   Tuesday|10.631682565455652|\n",
      "|    Friday| 14.69605749486653|\n",
      "|  Thursday|16.148919990957108|\n",
      "|  Saturday| 7.650502333676133|\n",
      "|    Monday|14.778936729330908|\n",
      "|    Sunday|11.589531801152422|\n",
      "+----------+------------------+\n",
      "\n"
     ]
    }
   ],
   "source": [
    "df.withColumn(\"dia_semana\", F.date_format(\"time_hour\", \"EEEE\")).groupBy(\"dia_semana\").agg({\"dep_delay\": \"avg\"}).show()"
   ]
  },
  {
   "cell_type": "markdown",
   "metadata": {},
   "source": [
    "### 11. Qual é a rota que teve o maior tempo de voo médio (air_time)?"
   ]
  },
  {
   "cell_type": "code",
   "execution_count": 30,
   "metadata": {},
   "outputs": [
    {
     "name": "stdout",
     "output_type": "stream",
     "text": [
      "+-------+-----------------+\n",
      "|   rota|    avg(air_time)|\n",
      "+-------+-----------------+\n",
      "|JFK-HNL|623.0877192982456|\n",
      "+-------+-----------------+\n",
      "\n"
     ]
    }
   ],
   "source": [
    "df.withColumn(\"rota\", F.concat(\"origin\", F.lit(\"-\"), \"dest\")).groupBy(\"rota\").agg({\"air_time\": \"avg\"}).orderBy(\n",
    "    \"avg(air_time)\", ascending=False\n",
    ").limit(1).show()"
   ]
  },
  {
   "cell_type": "markdown",
   "metadata": {},
   "source": [
    "### 12. Para cada aeroporto de origem, qual é o aeroporto de destino mais comum?"
   ]
  },
  {
   "cell_type": "code",
   "execution_count": 31,
   "metadata": {},
   "outputs": [
    {
     "name": "stdout",
     "output_type": "stream",
     "text": [
      "+------+----------+\n",
      "|origin|mode(dest)|\n",
      "+------+----------+\n",
      "|   LGA|       ATL|\n",
      "|   EWR|       ORD|\n",
      "|   JFK|       LAX|\n",
      "+------+----------+\n",
      "\n"
     ]
    }
   ],
   "source": [
    "df.groupBy(\"origin\").agg({\"dest\": \"mode\"}).show()"
   ]
  },
  {
   "cell_type": "markdown",
   "metadata": {},
   "source": [
    "### 13. Quais são as 3 rotas que tiveram a maior variação no tempo médio de voo (air_time) ?"
   ]
  },
  {
   "cell_type": "code",
   "execution_count": 35,
   "metadata": {},
   "outputs": [
    {
     "name": "stdout",
     "output_type": "stream",
     "text": [
      "+-------+-----------------+\n",
      "|   rota| stddev(air_time)|\n",
      "+-------+-----------------+\n",
      "|LGA-MYR|25.32455988429677|\n",
      "|EWR-HNL|21.26613546847422|\n",
      "|JFK-HNL|20.68882484278704|\n",
      "+-------+-----------------+\n",
      "\n"
     ]
    }
   ],
   "source": [
    "df.withColumn(\"rota\", F.concat(\"origin\", F.lit(\"-\"), \"dest\")).groupBy(\"rota\").agg({\"air_time\": \"stddev\"}).orderBy(\n",
    "    \"stddev(air_time)\", ascending=False\n",
    ").limit(3).show()"
   ]
  },
  {
   "cell_type": "markdown",
   "metadata": {},
   "source": [
    "### 14. Qual é a média de atraso na chegada para voos que tiveram atraso na partida superior a 1 hora?"
   ]
  },
  {
   "cell_type": "code",
   "execution_count": 36,
   "metadata": {},
   "outputs": [
    {
     "name": "stdout",
     "output_type": "stream",
     "text": [
      "+------------------+\n",
      "|    avg(arr_delay)|\n",
      "+------------------+\n",
      "|119.04880549963919|\n",
      "+------------------+\n",
      "\n"
     ]
    }
   ],
   "source": [
    "df.filter(df[\"dep_delay\"] > 60).select(F.avg(\"arr_delay\")).show()"
   ]
  },
  {
   "cell_type": "markdown",
   "metadata": {},
   "source": [
    "### 15. Qual é a média de voos diários para cada mês do ano?"
   ]
  },
  {
   "cell_type": "code",
   "execution_count": 46,
   "metadata": {},
   "outputs": [
    {
     "name": "stdout",
     "output_type": "stream",
     "text": [
      "+-----+-----------------+\n",
      "|month|       avg(count)|\n",
      "+-----+-----------------+\n",
      "|    1|871.0967741935484|\n",
      "|    2|891.1071428571429|\n",
      "|    3|930.1290322580645|\n",
      "|    4|944.3333333333334|\n",
      "|    5|928.9032258064516|\n",
      "|    6|941.4333333333333|\n",
      "|    7|949.1935483870968|\n",
      "|    8|946.0322580645161|\n",
      "|    9|919.1333333333333|\n",
      "|   10|931.9032258064516|\n",
      "|   11|908.9333333333333|\n",
      "|   12|907.5806451612904|\n",
      "+-----+-----------------+\n",
      "\n"
     ]
    }
   ],
   "source": [
    "df.groupBy(\"month\", \"day\").count().groupBy(\"month\").agg({\"count\": \"avg\"}).sort(\"month\").show()"
   ]
  },
  {
   "cell_type": "markdown",
   "metadata": {},
   "source": [
    "### 16. Quais são as 3 rotas mais comuns que tiveram atrasos na chegada superiores a 30 minutos?"
   ]
  },
  {
   "cell_type": "code",
   "execution_count": 49,
   "metadata": {},
   "outputs": [
    {
     "name": "stdout",
     "output_type": "stream",
     "text": [
      "+-------+-----+\n",
      "|   rota|count|\n",
      "+-------+-----+\n",
      "|LGA-ATL| 1563|\n",
      "|JFK-LAX| 1286|\n",
      "|LGA-ORD| 1188|\n",
      "+-------+-----+\n",
      "\n"
     ]
    }
   ],
   "source": [
    "df.filter(df[\"arr_delay\"] > 30).withColumn(\"rota\", F.concat(\"origin\", F.lit(\"-\"), \"dest\")).groupBy(\n",
    "    \"rota\"\n",
    ").count().orderBy(\"count\", ascending=False).limit(3).show()"
   ]
  },
  {
   "cell_type": "markdown",
   "metadata": {},
   "source": [
    "### 17. Para cada origem, qual o principal destino?"
   ]
  },
  {
   "cell_type": "code",
   "execution_count": 50,
   "metadata": {},
   "outputs": [
    {
     "name": "stdout",
     "output_type": "stream",
     "text": [
      "+------+----------+\n",
      "|origin|mode(dest)|\n",
      "+------+----------+\n",
      "|   LGA|       ATL|\n",
      "|   EWR|       ORD|\n",
      "|   JFK|       LAX|\n",
      "+------+----------+\n",
      "\n"
     ]
    }
   ],
   "source": [
    "# Mesma pergunta que a 12?\n",
    "df.groupBy(\"origin\").agg({\"dest\": \"mode\"}).show()"
   ]
  },
  {
   "cell_type": "markdown",
   "metadata": {},
   "source": [
    "## Enriquecimento do dataset"
   ]
  },
  {
   "cell_type": "code",
   "execution_count": 12,
   "metadata": {},
   "outputs": [
    {
     "name": "stdout",
     "output_type": "stream",
     "text": [
      "+------+----+-----+---+--------+--------------+---------+--------+--------------+---------+-------+------+-------+------+----+--------+--------+----+------+-------------------+--------------------+\n",
      "|    id|year|month|day|dep_time|sched_dep_time|dep_delay|arr_time|sched_arr_time|arr_delay|carrier|flight|tailnum|origin|dest|air_time|distance|hour|minute|          time_hour|                name|\n",
      "+------+----+-----+---+--------+--------------+---------+--------+--------------+---------+-------+------+-------+------+----+--------+--------+----+------+-------------------+--------------------+\n",
      "|  7072|2013|    1|  9|   641.0|           900|   1301.0|  1242.0|          1530|   1272.0|     HA|    51| N384HA|   JFK| HNL|   640.0|    4983|   9|     0|2013-01-09 09:00:00|Hawaiian Airlines...|\n",
      "|235778|2013|    6| 15|  1432.0|          1935|   1137.0|  1607.0|          2120|   1127.0|     MQ|  3535| N504MQ|   JFK| CMH|    74.0|     483|  19|    35|2013-06-15 19:00:00|           Envoy Air|\n",
      "|  8239|2013|    1| 10|  1121.0|          1635|   1126.0|  1239.0|          1810|   1109.0|     MQ|  3695| N517MQ|   EWR| ORD|   111.0|     719|  16|    35|2013-01-10 16:00:00|           Envoy Air|\n",
      "|327043|2013|    9| 20|  1139.0|          1845|   1014.0|  1457.0|          2210|   1007.0|     AA|   177| N338AA|   JFK| SFO|   354.0|    2586|  18|    45|2013-09-20 18:00:00|American Airlines...|\n",
      "|270376|2013|    7| 22|   845.0|          1600|   1005.0|  1044.0|          1815|    989.0|     MQ|  3075| N665MQ|   JFK| CVG|    96.0|     589|  16|     0|2013-07-22 16:00:00|           Envoy Air|\n",
      "+------+----+-----+---+--------+--------------+---------+--------+--------------+---------+-------+------+-------+------+----+--------+--------+----+------+-------------------+--------------------+\n",
      "\n"
     ]
    }
   ],
   "source": [
    "enrichment_df = df.orderBy(\"arr_delay\", ascending=False).limit(5)\n",
    "enrichment_df.show()"
   ]
  },
  {
   "cell_type": "code",
   "execution_count": 83,
   "metadata": {},
   "outputs": [],
   "source": [
    "airportdb_token=os.environ[\"AIRPORTDB_TOKEN\"]\n",
    "airportdb_cache = {}\n",
    "def get_lat_lon(airport_code: str) -> tuple[float | None, float | None]:\n",
    "    uri = f\"https://airportdb.io/api/v1/airport/K{airport_code}?apiToken={airportdb_token}\"\n",
    "    if airport_code in airportdb_cache:\n",
    "        return airportdb_cache[airport_code]\n",
    "    data = requests.get(uri).json()\n",
    "    try:\n",
    "        ret = (data[\"latitude_deg\"], data[\"longitude_deg\"])\n",
    "    except KeyError:\n",
    "        ret = (None, None)\n",
    "    airportdb_cache[airport_code] = ret\n",
    "    return ret\n"
   ]
  },
  {
   "cell_type": "code",
   "execution_count": 84,
   "metadata": {},
   "outputs": [],
   "source": [
    "weatherbit_key = os.environ[\"WEATHERBIT_API_KEY\"]\n",
    "def get_wind_speed(latitude: float, longitude: float, start_date: str) -> float:\n",
    "    format = \"%Y-%m-%d\"\n",
    "    end_date = (datetime.strptime(start_date, format) + timedelta(days=1)).strftime(format)\n",
    "    url = \"https://api.weatherbit.io/v2.0/history/daily\"\n",
    "    params = {\n",
    "        \"lat\": latitude,\n",
    "        \"lon\": longitude,\n",
    "        \"start_date\": start_date,\n",
    "        \"end_date\": end_date,\n",
    "        \"key\": weatherbit_key,\n",
    "    }\n",
    "    headers = {\n",
    "        \"Accept\": \"application/json\",\n",
    "    }\n",
    "    return requests.get(url, params=params, headers=headers).json()[\"data\"][0][\"wind_spd\"]"
   ]
  },
  {
   "cell_type": "code",
   "execution_count": 90,
   "metadata": {},
   "outputs": [
    {
     "name": "stderr",
     "output_type": "stream",
     "text": [
      "24/10/06 05:14:50 WARN SimpleTableFunctionRegistry: The function enrich_data replaced a previously registered function.\n"
     ]
    },
    {
     "data": {
      "text/plain": [
       "<pyspark.sql.udtf.UserDefinedTableFunction at 0x78c6fa6f03a0>"
      ]
     },
     "execution_count": 90,
     "metadata": {},
     "output_type": "execute_result"
    }
   ],
   "source": [
    "schema = T.StructType(\n",
    "    [   \n",
    "        T.StructField(\"id\", T.IntegerType()),\n",
    "        T.StructField(\"origin_latitude\", T.DoubleType()),\n",
    "        T.StructField(\"origin_longitude\", T.DoubleType()),\n",
    "        T.StructField(\"dest_latitude\", T.DoubleType()),\n",
    "        T.StructField(\"dest_longitude\", T.DoubleType()),\n",
    "        T.StructField(\"origin_wind_speed\", T.DoubleType()),\n",
    "        T.StructField(\"dest_wind_speed\", T.DoubleType()),\n",
    "    ]\n",
    ")\n",
    "@F.udtf(returnType=schema)\n",
    "class EnrichData:\n",
    "    def eval(self, row: T.Row):\n",
    "        origin_coords = get_lat_lon(row[\"origin\"])\n",
    "        dest_coords = get_lat_lon(row[\"dest\"])\n",
    "        start_date = row[\"time_hour\"].strftime(\"%Y-%m-%d\")\n",
    "        origin_ws = get_wind_speed(*origin_coords, start_date) if origin_coords[0] else None\n",
    "        dest_ws = get_wind_speed(*dest_coords, start_date) if dest_coords[0] else None\n",
    "        yield (row[\"id\"], *origin_coords, *dest_coords, origin_ws, dest_ws)\n",
    "spark.udtf.register(\"enrich_data\", EnrichData)\n"
   ]
  },
  {
   "cell_type": "code",
   "execution_count": 92,
   "metadata": {},
   "outputs": [
    {
     "name": "stderr",
     "output_type": "stream",
     "text": [
      "[Stage 24:>                                                         (0 + 1) / 1]\r"
     ]
    },
    {
     "name": "stdout",
     "output_type": "stream",
     "text": [
      "+------+----+-----+---+--------+--------------+---------+--------+--------------+---------+-------+------+-------+------+----+--------+--------+----+------+-------------------+--------------------+------+---------------+----------------+-----------------+--------------+-----------------+---------------+\n",
      "|    id|year|month|day|dep_time|sched_dep_time|dep_delay|arr_time|sched_arr_time|arr_delay|carrier|flight|tailnum|origin|dest|air_time|distance|hour|minute|          time_hour|                name|    id|origin_latitude|origin_longitude|    dest_latitude|dest_longitude|origin_wind_speed|dest_wind_speed|\n",
      "+------+----+-----+---+--------+--------------+---------+--------+--------------+---------+-------+------+-------+------+----+--------+--------+----+------+-------------------+--------------------+------+---------------+----------------+-----------------+--------------+-----------------+---------------+\n",
      "|  7072|2013|    1|  9|   641.0|           900|   1301.0|  1242.0|          1530|   1272.0|     HA|    51| N384HA|   JFK| HNL|   640.0|    4983|   9|     0|2013-01-09 09:00:00|Hawaiian Airlines...|  7072|      40.639801|        -73.7789|             NULL|          NULL|              3.5|           NULL|\n",
      "|235778|2013|    6| 15|  1432.0|          1935|   1137.0|  1607.0|          2120|   1127.0|     MQ|  3535| N504MQ|   JFK| CMH|    74.0|     483|  19|    35|2013-06-15 19:00:00|           Envoy Air|235778|      40.639801|        -73.7789|        39.998001|    -82.891899|              4.1|            1.9|\n",
      "|  8239|2013|    1| 10|  1121.0|          1635|   1126.0|  1239.0|          1810|   1109.0|     MQ|  3695| N517MQ|   EWR| ORD|   111.0|     719|  16|    35|2013-01-10 16:00:00|           Envoy Air|  8239|      40.692501|      -74.168701|          41.9786|      -87.9048|              4.1|            4.1|\n",
      "|327043|2013|    9| 20|  1139.0|          1845|   1014.0|  1457.0|          2210|   1007.0|     AA|   177| N338AA|   JFK| SFO|   354.0|    2586|  18|    45|2013-09-20 18:00:00|American Airlines...|327043|      40.639801|        -73.7789|37.61899948120117|      -122.375|              3.7|            4.3|\n",
      "|270376|2013|    7| 22|   845.0|          1600|   1005.0|  1044.0|          1815|    989.0|     MQ|  3075| N665MQ|   JFK| CVG|    96.0|     589|  16|     0|2013-07-22 16:00:00|           Envoy Air|270376|      40.639801|        -73.7789|        39.048801|    -84.667801|              3.2|            2.3|\n",
      "+------+----+-----+---+--------+--------------+---------+--------+--------------+---------+-------+------+-------+------+----+--------+--------+----+------+-------------------+--------------------+------+---------------+----------------+-----------------+--------------+-----------------+---------------+\n",
      "\n"
     ]
    },
    {
     "name": "stderr",
     "output_type": "stream",
     "text": [
      "                                                                                \r"
     ]
    }
   ],
   "source": [
    "enrichment_df.createOrReplaceTempView(\"df\")\n",
    "spark.sql(\"\"\"\n",
    "    SELECT * \n",
    "    FROM df INNER JOIN (SELECT * FROM enrich_data(TABLE(df))) AS enrich\n",
    "        ON df.id = enrich.id\n",
    "\"\"\").show()"
   ]
  },
  {
   "cell_type": "markdown",
   "metadata": {},
   "source": [
    "## Treinamento do modelo"
   ]
  },
  {
   "cell_type": "code",
   "execution_count": 33,
   "metadata": {},
   "outputs": [],
   "source": [
    "features = [\n",
    "    \"month\",\n",
    "    \"day\",\n",
    "    \"sched_dep_time\",\n",
    "    \"sched_arr_time\",\n",
    "    \"carrier\",\n",
    "    \"tailnum\",\n",
    "    \"origin\",\n",
    "    \"dest\",\n",
    "    \"distance\",\n",
    "]\n",
    "target = \"arr_delay\"\n",
    "df_ml = df.filter(df[target].isNotNull()).select(*[*features, target]).toPandas()\n",
    "\n",
    "# transforma hhmm em \"número de horas a partir de 0\"\n",
    "df_ml[\"sched_dep_time\"] = (\n",
    "    df_ml[\"sched_dep_time\"].astype(str).str.zfill(4).apply(lambda x: float(x[:2]) + float(x[2:]) / 60)\n",
    ")\n",
    "df_ml[\"sched_arr_time\"] = (\n",
    "    df_ml[\"sched_arr_time\"].astype(str).str.zfill(4).apply(lambda x: float(x[:2]) + float(x[2:]) / 60)\n",
    ")\n",
    "\n",
    "X = df_ml.loc[:, features]\n",
    "y = df_ml[target]\n",
    "X_train, X_test, y_train, y_test = train_test_split(X, y, test_size=0.2, random_state=15)"
   ]
  },
  {
   "cell_type": "code",
   "execution_count": 34,
   "metadata": {},
   "outputs": [
    {
     "data": {
      "text/html": [
       "<div>\n",
       "<style scoped>\n",
       "    .dataframe tbody tr th:only-of-type {\n",
       "        vertical-align: middle;\n",
       "    }\n",
       "\n",
       "    .dataframe tbody tr th {\n",
       "        vertical-align: top;\n",
       "    }\n",
       "\n",
       "    .dataframe thead th {\n",
       "        text-align: right;\n",
       "    }\n",
       "</style>\n",
       "<table border=\"1\" class=\"dataframe\">\n",
       "  <thead>\n",
       "    <tr style=\"text-align: right;\">\n",
       "      <th></th>\n",
       "      <th>month</th>\n",
       "      <th>day</th>\n",
       "      <th>sched_dep_time</th>\n",
       "      <th>sched_arr_time</th>\n",
       "      <th>carrier</th>\n",
       "      <th>tailnum</th>\n",
       "      <th>origin</th>\n",
       "      <th>dest</th>\n",
       "      <th>distance</th>\n",
       "    </tr>\n",
       "  </thead>\n",
       "  <tbody>\n",
       "    <tr>\n",
       "      <th>0</th>\n",
       "      <td>1</td>\n",
       "      <td>1</td>\n",
       "      <td>5.250000</td>\n",
       "      <td>8.316667</td>\n",
       "      <td>UA</td>\n",
       "      <td>N14228</td>\n",
       "      <td>EWR</td>\n",
       "      <td>IAH</td>\n",
       "      <td>1400</td>\n",
       "    </tr>\n",
       "    <tr>\n",
       "      <th>1</th>\n",
       "      <td>1</td>\n",
       "      <td>1</td>\n",
       "      <td>5.483333</td>\n",
       "      <td>8.500000</td>\n",
       "      <td>UA</td>\n",
       "      <td>N24211</td>\n",
       "      <td>LGA</td>\n",
       "      <td>IAH</td>\n",
       "      <td>1416</td>\n",
       "    </tr>\n",
       "    <tr>\n",
       "      <th>2</th>\n",
       "      <td>1</td>\n",
       "      <td>1</td>\n",
       "      <td>5.666667</td>\n",
       "      <td>8.833333</td>\n",
       "      <td>AA</td>\n",
       "      <td>N619AA</td>\n",
       "      <td>JFK</td>\n",
       "      <td>MIA</td>\n",
       "      <td>1089</td>\n",
       "    </tr>\n",
       "    <tr>\n",
       "      <th>3</th>\n",
       "      <td>1</td>\n",
       "      <td>1</td>\n",
       "      <td>5.750000</td>\n",
       "      <td>10.366667</td>\n",
       "      <td>B6</td>\n",
       "      <td>N804JB</td>\n",
       "      <td>JFK</td>\n",
       "      <td>BQN</td>\n",
       "      <td>1576</td>\n",
       "    </tr>\n",
       "    <tr>\n",
       "      <th>4</th>\n",
       "      <td>1</td>\n",
       "      <td>1</td>\n",
       "      <td>6.000000</td>\n",
       "      <td>8.616667</td>\n",
       "      <td>DL</td>\n",
       "      <td>N668DN</td>\n",
       "      <td>LGA</td>\n",
       "      <td>ATL</td>\n",
       "      <td>762</td>\n",
       "    </tr>\n",
       "  </tbody>\n",
       "</table>\n",
       "</div>"
      ],
      "text/plain": [
       "   month  day  sched_dep_time  sched_arr_time carrier tailnum origin dest  \\\n",
       "0      1    1        5.250000        8.316667      UA  N14228    EWR  IAH   \n",
       "1      1    1        5.483333        8.500000      UA  N24211    LGA  IAH   \n",
       "2      1    1        5.666667        8.833333      AA  N619AA    JFK  MIA   \n",
       "3      1    1        5.750000       10.366667      B6  N804JB    JFK  BQN   \n",
       "4      1    1        6.000000        8.616667      DL  N668DN    LGA  ATL   \n",
       "\n",
       "   distance  \n",
       "0      1400  \n",
       "1      1416  \n",
       "2      1089  \n",
       "3      1576  \n",
       "4       762  "
      ]
     },
     "execution_count": 34,
     "metadata": {},
     "output_type": "execute_result"
    }
   ],
   "source": [
    "X.head()"
   ]
  },
  {
   "cell_type": "code",
   "execution_count": 35,
   "metadata": {},
   "outputs": [
    {
     "name": "stdout",
     "output_type": "stream",
     "text": [
      "['carrier', 'tailnum', 'origin', 'dest']\n",
      "['sched_arr_time', 'sched_dep_time', 'distance', 'month', 'day']\n"
     ]
    }
   ],
   "source": [
    "categorical_features = []\n",
    "for feat in features:\n",
    "    try:\n",
    "        _ = X[feat].astype(float)\n",
    "    except (TypeError, ValueError):\n",
    "        categorical_features.append(feat)\n",
    "numerical_features = list(set(features).difference(categorical_features))\n",
    "print(categorical_features)\n",
    "print(numerical_features)"
   ]
  },
  {
   "cell_type": "code",
   "execution_count": 36,
   "metadata": {},
   "outputs": [
    {
     "data": {
      "text/html": [
       "<style>#sk-container-id-3 {\n",
       "  /* Definition of color scheme common for light and dark mode */\n",
       "  --sklearn-color-text: black;\n",
       "  --sklearn-color-line: gray;\n",
       "  /* Definition of color scheme for unfitted estimators */\n",
       "  --sklearn-color-unfitted-level-0: #fff5e6;\n",
       "  --sklearn-color-unfitted-level-1: #f6e4d2;\n",
       "  --sklearn-color-unfitted-level-2: #ffe0b3;\n",
       "  --sklearn-color-unfitted-level-3: chocolate;\n",
       "  /* Definition of color scheme for fitted estimators */\n",
       "  --sklearn-color-fitted-level-0: #f0f8ff;\n",
       "  --sklearn-color-fitted-level-1: #d4ebff;\n",
       "  --sklearn-color-fitted-level-2: #b3dbfd;\n",
       "  --sklearn-color-fitted-level-3: cornflowerblue;\n",
       "\n",
       "  /* Specific color for light theme */\n",
       "  --sklearn-color-text-on-default-background: var(--sg-text-color, var(--theme-code-foreground, var(--jp-content-font-color1, black)));\n",
       "  --sklearn-color-background: var(--sg-background-color, var(--theme-background, var(--jp-layout-color0, white)));\n",
       "  --sklearn-color-border-box: var(--sg-text-color, var(--theme-code-foreground, var(--jp-content-font-color1, black)));\n",
       "  --sklearn-color-icon: #696969;\n",
       "\n",
       "  @media (prefers-color-scheme: dark) {\n",
       "    /* Redefinition of color scheme for dark theme */\n",
       "    --sklearn-color-text-on-default-background: var(--sg-text-color, var(--theme-code-foreground, var(--jp-content-font-color1, white)));\n",
       "    --sklearn-color-background: var(--sg-background-color, var(--theme-background, var(--jp-layout-color0, #111)));\n",
       "    --sklearn-color-border-box: var(--sg-text-color, var(--theme-code-foreground, var(--jp-content-font-color1, white)));\n",
       "    --sklearn-color-icon: #878787;\n",
       "  }\n",
       "}\n",
       "\n",
       "#sk-container-id-3 {\n",
       "  color: var(--sklearn-color-text);\n",
       "}\n",
       "\n",
       "#sk-container-id-3 pre {\n",
       "  padding: 0;\n",
       "}\n",
       "\n",
       "#sk-container-id-3 input.sk-hidden--visually {\n",
       "  border: 0;\n",
       "  clip: rect(1px 1px 1px 1px);\n",
       "  clip: rect(1px, 1px, 1px, 1px);\n",
       "  height: 1px;\n",
       "  margin: -1px;\n",
       "  overflow: hidden;\n",
       "  padding: 0;\n",
       "  position: absolute;\n",
       "  width: 1px;\n",
       "}\n",
       "\n",
       "#sk-container-id-3 div.sk-dashed-wrapped {\n",
       "  border: 1px dashed var(--sklearn-color-line);\n",
       "  margin: 0 0.4em 0.5em 0.4em;\n",
       "  box-sizing: border-box;\n",
       "  padding-bottom: 0.4em;\n",
       "  background-color: var(--sklearn-color-background);\n",
       "}\n",
       "\n",
       "#sk-container-id-3 div.sk-container {\n",
       "  /* jupyter's `normalize.less` sets `[hidden] { display: none; }`\n",
       "     but bootstrap.min.css set `[hidden] { display: none !important; }`\n",
       "     so we also need the `!important` here to be able to override the\n",
       "     default hidden behavior on the sphinx rendered scikit-learn.org.\n",
       "     See: https://github.com/scikit-learn/scikit-learn/issues/21755 */\n",
       "  display: inline-block !important;\n",
       "  position: relative;\n",
       "}\n",
       "\n",
       "#sk-container-id-3 div.sk-text-repr-fallback {\n",
       "  display: none;\n",
       "}\n",
       "\n",
       "div.sk-parallel-item,\n",
       "div.sk-serial,\n",
       "div.sk-item {\n",
       "  /* draw centered vertical line to link estimators */\n",
       "  background-image: linear-gradient(var(--sklearn-color-text-on-default-background), var(--sklearn-color-text-on-default-background));\n",
       "  background-size: 2px 100%;\n",
       "  background-repeat: no-repeat;\n",
       "  background-position: center center;\n",
       "}\n",
       "\n",
       "/* Parallel-specific style estimator block */\n",
       "\n",
       "#sk-container-id-3 div.sk-parallel-item::after {\n",
       "  content: \"\";\n",
       "  width: 100%;\n",
       "  border-bottom: 2px solid var(--sklearn-color-text-on-default-background);\n",
       "  flex-grow: 1;\n",
       "}\n",
       "\n",
       "#sk-container-id-3 div.sk-parallel {\n",
       "  display: flex;\n",
       "  align-items: stretch;\n",
       "  justify-content: center;\n",
       "  background-color: var(--sklearn-color-background);\n",
       "  position: relative;\n",
       "}\n",
       "\n",
       "#sk-container-id-3 div.sk-parallel-item {\n",
       "  display: flex;\n",
       "  flex-direction: column;\n",
       "}\n",
       "\n",
       "#sk-container-id-3 div.sk-parallel-item:first-child::after {\n",
       "  align-self: flex-end;\n",
       "  width: 50%;\n",
       "}\n",
       "\n",
       "#sk-container-id-3 div.sk-parallel-item:last-child::after {\n",
       "  align-self: flex-start;\n",
       "  width: 50%;\n",
       "}\n",
       "\n",
       "#sk-container-id-3 div.sk-parallel-item:only-child::after {\n",
       "  width: 0;\n",
       "}\n",
       "\n",
       "/* Serial-specific style estimator block */\n",
       "\n",
       "#sk-container-id-3 div.sk-serial {\n",
       "  display: flex;\n",
       "  flex-direction: column;\n",
       "  align-items: center;\n",
       "  background-color: var(--sklearn-color-background);\n",
       "  padding-right: 1em;\n",
       "  padding-left: 1em;\n",
       "}\n",
       "\n",
       "\n",
       "/* Toggleable style: style used for estimator/Pipeline/ColumnTransformer box that is\n",
       "clickable and can be expanded/collapsed.\n",
       "- Pipeline and ColumnTransformer use this feature and define the default style\n",
       "- Estimators will overwrite some part of the style using the `sk-estimator` class\n",
       "*/\n",
       "\n",
       "/* Pipeline and ColumnTransformer style (default) */\n",
       "\n",
       "#sk-container-id-3 div.sk-toggleable {\n",
       "  /* Default theme specific background. It is overwritten whether we have a\n",
       "  specific estimator or a Pipeline/ColumnTransformer */\n",
       "  background-color: var(--sklearn-color-background);\n",
       "}\n",
       "\n",
       "/* Toggleable label */\n",
       "#sk-container-id-3 label.sk-toggleable__label {\n",
       "  cursor: pointer;\n",
       "  display: block;\n",
       "  width: 100%;\n",
       "  margin-bottom: 0;\n",
       "  padding: 0.5em;\n",
       "  box-sizing: border-box;\n",
       "  text-align: center;\n",
       "}\n",
       "\n",
       "#sk-container-id-3 label.sk-toggleable__label-arrow:before {\n",
       "  /* Arrow on the left of the label */\n",
       "  content: \"▸\";\n",
       "  float: left;\n",
       "  margin-right: 0.25em;\n",
       "  color: var(--sklearn-color-icon);\n",
       "}\n",
       "\n",
       "#sk-container-id-3 label.sk-toggleable__label-arrow:hover:before {\n",
       "  color: var(--sklearn-color-text);\n",
       "}\n",
       "\n",
       "/* Toggleable content - dropdown */\n",
       "\n",
       "#sk-container-id-3 div.sk-toggleable__content {\n",
       "  max-height: 0;\n",
       "  max-width: 0;\n",
       "  overflow: hidden;\n",
       "  text-align: left;\n",
       "  /* unfitted */\n",
       "  background-color: var(--sklearn-color-unfitted-level-0);\n",
       "}\n",
       "\n",
       "#sk-container-id-3 div.sk-toggleable__content.fitted {\n",
       "  /* fitted */\n",
       "  background-color: var(--sklearn-color-fitted-level-0);\n",
       "}\n",
       "\n",
       "#sk-container-id-3 div.sk-toggleable__content pre {\n",
       "  margin: 0.2em;\n",
       "  border-radius: 0.25em;\n",
       "  color: var(--sklearn-color-text);\n",
       "  /* unfitted */\n",
       "  background-color: var(--sklearn-color-unfitted-level-0);\n",
       "}\n",
       "\n",
       "#sk-container-id-3 div.sk-toggleable__content.fitted pre {\n",
       "  /* unfitted */\n",
       "  background-color: var(--sklearn-color-fitted-level-0);\n",
       "}\n",
       "\n",
       "#sk-container-id-3 input.sk-toggleable__control:checked~div.sk-toggleable__content {\n",
       "  /* Expand drop-down */\n",
       "  max-height: 200px;\n",
       "  max-width: 100%;\n",
       "  overflow: auto;\n",
       "}\n",
       "\n",
       "#sk-container-id-3 input.sk-toggleable__control:checked~label.sk-toggleable__label-arrow:before {\n",
       "  content: \"▾\";\n",
       "}\n",
       "\n",
       "/* Pipeline/ColumnTransformer-specific style */\n",
       "\n",
       "#sk-container-id-3 div.sk-label input.sk-toggleable__control:checked~label.sk-toggleable__label {\n",
       "  color: var(--sklearn-color-text);\n",
       "  background-color: var(--sklearn-color-unfitted-level-2);\n",
       "}\n",
       "\n",
       "#sk-container-id-3 div.sk-label.fitted input.sk-toggleable__control:checked~label.sk-toggleable__label {\n",
       "  background-color: var(--sklearn-color-fitted-level-2);\n",
       "}\n",
       "\n",
       "/* Estimator-specific style */\n",
       "\n",
       "/* Colorize estimator box */\n",
       "#sk-container-id-3 div.sk-estimator input.sk-toggleable__control:checked~label.sk-toggleable__label {\n",
       "  /* unfitted */\n",
       "  background-color: var(--sklearn-color-unfitted-level-2);\n",
       "}\n",
       "\n",
       "#sk-container-id-3 div.sk-estimator.fitted input.sk-toggleable__control:checked~label.sk-toggleable__label {\n",
       "  /* fitted */\n",
       "  background-color: var(--sklearn-color-fitted-level-2);\n",
       "}\n",
       "\n",
       "#sk-container-id-3 div.sk-label label.sk-toggleable__label,\n",
       "#sk-container-id-3 div.sk-label label {\n",
       "  /* The background is the default theme color */\n",
       "  color: var(--sklearn-color-text-on-default-background);\n",
       "}\n",
       "\n",
       "/* On hover, darken the color of the background */\n",
       "#sk-container-id-3 div.sk-label:hover label.sk-toggleable__label {\n",
       "  color: var(--sklearn-color-text);\n",
       "  background-color: var(--sklearn-color-unfitted-level-2);\n",
       "}\n",
       "\n",
       "/* Label box, darken color on hover, fitted */\n",
       "#sk-container-id-3 div.sk-label.fitted:hover label.sk-toggleable__label.fitted {\n",
       "  color: var(--sklearn-color-text);\n",
       "  background-color: var(--sklearn-color-fitted-level-2);\n",
       "}\n",
       "\n",
       "/* Estimator label */\n",
       "\n",
       "#sk-container-id-3 div.sk-label label {\n",
       "  font-family: monospace;\n",
       "  font-weight: bold;\n",
       "  display: inline-block;\n",
       "  line-height: 1.2em;\n",
       "}\n",
       "\n",
       "#sk-container-id-3 div.sk-label-container {\n",
       "  text-align: center;\n",
       "}\n",
       "\n",
       "/* Estimator-specific */\n",
       "#sk-container-id-3 div.sk-estimator {\n",
       "  font-family: monospace;\n",
       "  border: 1px dotted var(--sklearn-color-border-box);\n",
       "  border-radius: 0.25em;\n",
       "  box-sizing: border-box;\n",
       "  margin-bottom: 0.5em;\n",
       "  /* unfitted */\n",
       "  background-color: var(--sklearn-color-unfitted-level-0);\n",
       "}\n",
       "\n",
       "#sk-container-id-3 div.sk-estimator.fitted {\n",
       "  /* fitted */\n",
       "  background-color: var(--sklearn-color-fitted-level-0);\n",
       "}\n",
       "\n",
       "/* on hover */\n",
       "#sk-container-id-3 div.sk-estimator:hover {\n",
       "  /* unfitted */\n",
       "  background-color: var(--sklearn-color-unfitted-level-2);\n",
       "}\n",
       "\n",
       "#sk-container-id-3 div.sk-estimator.fitted:hover {\n",
       "  /* fitted */\n",
       "  background-color: var(--sklearn-color-fitted-level-2);\n",
       "}\n",
       "\n",
       "/* Specification for estimator info (e.g. \"i\" and \"?\") */\n",
       "\n",
       "/* Common style for \"i\" and \"?\" */\n",
       "\n",
       ".sk-estimator-doc-link,\n",
       "a:link.sk-estimator-doc-link,\n",
       "a:visited.sk-estimator-doc-link {\n",
       "  float: right;\n",
       "  font-size: smaller;\n",
       "  line-height: 1em;\n",
       "  font-family: monospace;\n",
       "  background-color: var(--sklearn-color-background);\n",
       "  border-radius: 1em;\n",
       "  height: 1em;\n",
       "  width: 1em;\n",
       "  text-decoration: none !important;\n",
       "  margin-left: 1ex;\n",
       "  /* unfitted */\n",
       "  border: var(--sklearn-color-unfitted-level-1) 1pt solid;\n",
       "  color: var(--sklearn-color-unfitted-level-1);\n",
       "}\n",
       "\n",
       ".sk-estimator-doc-link.fitted,\n",
       "a:link.sk-estimator-doc-link.fitted,\n",
       "a:visited.sk-estimator-doc-link.fitted {\n",
       "  /* fitted */\n",
       "  border: var(--sklearn-color-fitted-level-1) 1pt solid;\n",
       "  color: var(--sklearn-color-fitted-level-1);\n",
       "}\n",
       "\n",
       "/* On hover */\n",
       "div.sk-estimator:hover .sk-estimator-doc-link:hover,\n",
       ".sk-estimator-doc-link:hover,\n",
       "div.sk-label-container:hover .sk-estimator-doc-link:hover,\n",
       ".sk-estimator-doc-link:hover {\n",
       "  /* unfitted */\n",
       "  background-color: var(--sklearn-color-unfitted-level-3);\n",
       "  color: var(--sklearn-color-background);\n",
       "  text-decoration: none;\n",
       "}\n",
       "\n",
       "div.sk-estimator.fitted:hover .sk-estimator-doc-link.fitted:hover,\n",
       ".sk-estimator-doc-link.fitted:hover,\n",
       "div.sk-label-container:hover .sk-estimator-doc-link.fitted:hover,\n",
       ".sk-estimator-doc-link.fitted:hover {\n",
       "  /* fitted */\n",
       "  background-color: var(--sklearn-color-fitted-level-3);\n",
       "  color: var(--sklearn-color-background);\n",
       "  text-decoration: none;\n",
       "}\n",
       "\n",
       "/* Span, style for the box shown on hovering the info icon */\n",
       ".sk-estimator-doc-link span {\n",
       "  display: none;\n",
       "  z-index: 9999;\n",
       "  position: relative;\n",
       "  font-weight: normal;\n",
       "  right: .2ex;\n",
       "  padding: .5ex;\n",
       "  margin: .5ex;\n",
       "  width: min-content;\n",
       "  min-width: 20ex;\n",
       "  max-width: 50ex;\n",
       "  color: var(--sklearn-color-text);\n",
       "  box-shadow: 2pt 2pt 4pt #999;\n",
       "  /* unfitted */\n",
       "  background: var(--sklearn-color-unfitted-level-0);\n",
       "  border: .5pt solid var(--sklearn-color-unfitted-level-3);\n",
       "}\n",
       "\n",
       ".sk-estimator-doc-link.fitted span {\n",
       "  /* fitted */\n",
       "  background: var(--sklearn-color-fitted-level-0);\n",
       "  border: var(--sklearn-color-fitted-level-3);\n",
       "}\n",
       "\n",
       ".sk-estimator-doc-link:hover span {\n",
       "  display: block;\n",
       "}\n",
       "\n",
       "/* \"?\"-specific style due to the `<a>` HTML tag */\n",
       "\n",
       "#sk-container-id-3 a.estimator_doc_link {\n",
       "  float: right;\n",
       "  font-size: 1rem;\n",
       "  line-height: 1em;\n",
       "  font-family: monospace;\n",
       "  background-color: var(--sklearn-color-background);\n",
       "  border-radius: 1rem;\n",
       "  height: 1rem;\n",
       "  width: 1rem;\n",
       "  text-decoration: none;\n",
       "  /* unfitted */\n",
       "  color: var(--sklearn-color-unfitted-level-1);\n",
       "  border: var(--sklearn-color-unfitted-level-1) 1pt solid;\n",
       "}\n",
       "\n",
       "#sk-container-id-3 a.estimator_doc_link.fitted {\n",
       "  /* fitted */\n",
       "  border: var(--sklearn-color-fitted-level-1) 1pt solid;\n",
       "  color: var(--sklearn-color-fitted-level-1);\n",
       "}\n",
       "\n",
       "/* On hover */\n",
       "#sk-container-id-3 a.estimator_doc_link:hover {\n",
       "  /* unfitted */\n",
       "  background-color: var(--sklearn-color-unfitted-level-3);\n",
       "  color: var(--sklearn-color-background);\n",
       "  text-decoration: none;\n",
       "}\n",
       "\n",
       "#sk-container-id-3 a.estimator_doc_link.fitted:hover {\n",
       "  /* fitted */\n",
       "  background-color: var(--sklearn-color-fitted-level-3);\n",
       "}\n",
       "</style><div id=\"sk-container-id-3\" class=\"sk-top-container\"><div class=\"sk-text-repr-fallback\"><pre>Pipeline(steps=[(&#x27;transformer&#x27;,\n",
       "                 ColumnTransformer(transformers=[(&#x27;categorical&#x27;,\n",
       "                                                  Pipeline(steps=[(&#x27;imputer&#x27;,\n",
       "                                                                   SimpleImputer(fill_value=&#x27;&lt;missing&gt;&#x27;,\n",
       "                                                                                 strategy=&#x27;constant&#x27;)),\n",
       "                                                                  (&#x27;encoder&#x27;,\n",
       "                                                                   OrdinalEncoder(handle_unknown=&#x27;use_encoded_value&#x27;,\n",
       "                                                                                  unknown_value=-1))]),\n",
       "                                                  [&#x27;carrier&#x27;, &#x27;tailnum&#x27;,\n",
       "                                                   &#x27;origin&#x27;, &#x27;dest&#x27;]),\n",
       "                                                 (&#x27;numerical&#x27;,\n",
       "                                                  SimpleImputer(add_indicator=True,\n",
       "                                                                strategy=&#x27;median&#x27;),\n",
       "                                                  [&#x27;sched_arr_time&#x27;,\n",
       "                                                   &#x27;sched_dep_time&#x27;, &#x27;distance&#x27;,\n",
       "                                                   &#x27;month&#x27;, &#x27;day&#x27;])])),\n",
       "                (&#x27;model&#x27;, RandomForestRegressor(n_jobs=-1))])</pre><b>In a Jupyter environment, please rerun this cell to show the HTML representation or trust the notebook. <br />On GitHub, the HTML representation is unable to render, please try loading this page with nbviewer.org.</b></div><div class=\"sk-container\" hidden><div class=\"sk-item sk-dashed-wrapped\"><div class=\"sk-label-container\"><div class=\"sk-label  sk-toggleable\"><input class=\"sk-toggleable__control sk-hidden--visually\" id=\"sk-estimator-id-17\" type=\"checkbox\" ><label for=\"sk-estimator-id-17\" class=\"sk-toggleable__label  sk-toggleable__label-arrow \">&nbsp;&nbsp;Pipeline<a class=\"sk-estimator-doc-link \" rel=\"noreferrer\" target=\"_blank\" href=\"https://scikit-learn.org/1.5/modules/generated/sklearn.pipeline.Pipeline.html\">?<span>Documentation for Pipeline</span></a><span class=\"sk-estimator-doc-link \">i<span>Not fitted</span></span></label><div class=\"sk-toggleable__content \"><pre>Pipeline(steps=[(&#x27;transformer&#x27;,\n",
       "                 ColumnTransformer(transformers=[(&#x27;categorical&#x27;,\n",
       "                                                  Pipeline(steps=[(&#x27;imputer&#x27;,\n",
       "                                                                   SimpleImputer(fill_value=&#x27;&lt;missing&gt;&#x27;,\n",
       "                                                                                 strategy=&#x27;constant&#x27;)),\n",
       "                                                                  (&#x27;encoder&#x27;,\n",
       "                                                                   OrdinalEncoder(handle_unknown=&#x27;use_encoded_value&#x27;,\n",
       "                                                                                  unknown_value=-1))]),\n",
       "                                                  [&#x27;carrier&#x27;, &#x27;tailnum&#x27;,\n",
       "                                                   &#x27;origin&#x27;, &#x27;dest&#x27;]),\n",
       "                                                 (&#x27;numerical&#x27;,\n",
       "                                                  SimpleImputer(add_indicator=True,\n",
       "                                                                strategy=&#x27;median&#x27;),\n",
       "                                                  [&#x27;sched_arr_time&#x27;,\n",
       "                                                   &#x27;sched_dep_time&#x27;, &#x27;distance&#x27;,\n",
       "                                                   &#x27;month&#x27;, &#x27;day&#x27;])])),\n",
       "                (&#x27;model&#x27;, RandomForestRegressor(n_jobs=-1))])</pre></div> </div></div><div class=\"sk-serial\"><div class=\"sk-item sk-dashed-wrapped\"><div class=\"sk-label-container\"><div class=\"sk-label  sk-toggleable\"><input class=\"sk-toggleable__control sk-hidden--visually\" id=\"sk-estimator-id-18\" type=\"checkbox\" ><label for=\"sk-estimator-id-18\" class=\"sk-toggleable__label  sk-toggleable__label-arrow \">&nbsp;transformer: ColumnTransformer<a class=\"sk-estimator-doc-link \" rel=\"noreferrer\" target=\"_blank\" href=\"https://scikit-learn.org/1.5/modules/generated/sklearn.compose.ColumnTransformer.html\">?<span>Documentation for transformer: ColumnTransformer</span></a></label><div class=\"sk-toggleable__content \"><pre>ColumnTransformer(transformers=[(&#x27;categorical&#x27;,\n",
       "                                 Pipeline(steps=[(&#x27;imputer&#x27;,\n",
       "                                                  SimpleImputer(fill_value=&#x27;&lt;missing&gt;&#x27;,\n",
       "                                                                strategy=&#x27;constant&#x27;)),\n",
       "                                                 (&#x27;encoder&#x27;,\n",
       "                                                  OrdinalEncoder(handle_unknown=&#x27;use_encoded_value&#x27;,\n",
       "                                                                 unknown_value=-1))]),\n",
       "                                 [&#x27;carrier&#x27;, &#x27;tailnum&#x27;, &#x27;origin&#x27;, &#x27;dest&#x27;]),\n",
       "                                (&#x27;numerical&#x27;,\n",
       "                                 SimpleImputer(add_indicator=True,\n",
       "                                               strategy=&#x27;median&#x27;),\n",
       "                                 [&#x27;sched_arr_time&#x27;, &#x27;sched_dep_time&#x27;,\n",
       "                                  &#x27;distance&#x27;, &#x27;month&#x27;, &#x27;day&#x27;])])</pre></div> </div></div><div class=\"sk-parallel\"><div class=\"sk-parallel-item\"><div class=\"sk-item\"><div class=\"sk-label-container\"><div class=\"sk-label  sk-toggleable\"><input class=\"sk-toggleable__control sk-hidden--visually\" id=\"sk-estimator-id-19\" type=\"checkbox\" ><label for=\"sk-estimator-id-19\" class=\"sk-toggleable__label  sk-toggleable__label-arrow \">categorical</label><div class=\"sk-toggleable__content \"><pre>[&#x27;carrier&#x27;, &#x27;tailnum&#x27;, &#x27;origin&#x27;, &#x27;dest&#x27;]</pre></div> </div></div><div class=\"sk-serial\"><div class=\"sk-item\"><div class=\"sk-serial\"><div class=\"sk-item\"><div class=\"sk-estimator  sk-toggleable\"><input class=\"sk-toggleable__control sk-hidden--visually\" id=\"sk-estimator-id-20\" type=\"checkbox\" ><label for=\"sk-estimator-id-20\" class=\"sk-toggleable__label  sk-toggleable__label-arrow \">&nbsp;SimpleImputer<a class=\"sk-estimator-doc-link \" rel=\"noreferrer\" target=\"_blank\" href=\"https://scikit-learn.org/1.5/modules/generated/sklearn.impute.SimpleImputer.html\">?<span>Documentation for SimpleImputer</span></a></label><div class=\"sk-toggleable__content \"><pre>SimpleImputer(fill_value=&#x27;&lt;missing&gt;&#x27;, strategy=&#x27;constant&#x27;)</pre></div> </div></div><div class=\"sk-item\"><div class=\"sk-estimator  sk-toggleable\"><input class=\"sk-toggleable__control sk-hidden--visually\" id=\"sk-estimator-id-21\" type=\"checkbox\" ><label for=\"sk-estimator-id-21\" class=\"sk-toggleable__label  sk-toggleable__label-arrow \">&nbsp;OrdinalEncoder<a class=\"sk-estimator-doc-link \" rel=\"noreferrer\" target=\"_blank\" href=\"https://scikit-learn.org/1.5/modules/generated/sklearn.preprocessing.OrdinalEncoder.html\">?<span>Documentation for OrdinalEncoder</span></a></label><div class=\"sk-toggleable__content \"><pre>OrdinalEncoder(handle_unknown=&#x27;use_encoded_value&#x27;, unknown_value=-1)</pre></div> </div></div></div></div></div></div></div><div class=\"sk-parallel-item\"><div class=\"sk-item\"><div class=\"sk-label-container\"><div class=\"sk-label  sk-toggleable\"><input class=\"sk-toggleable__control sk-hidden--visually\" id=\"sk-estimator-id-22\" type=\"checkbox\" ><label for=\"sk-estimator-id-22\" class=\"sk-toggleable__label  sk-toggleable__label-arrow \">numerical</label><div class=\"sk-toggleable__content \"><pre>[&#x27;sched_arr_time&#x27;, &#x27;sched_dep_time&#x27;, &#x27;distance&#x27;, &#x27;month&#x27;, &#x27;day&#x27;]</pre></div> </div></div><div class=\"sk-serial\"><div class=\"sk-item\"><div class=\"sk-estimator  sk-toggleable\"><input class=\"sk-toggleable__control sk-hidden--visually\" id=\"sk-estimator-id-23\" type=\"checkbox\" ><label for=\"sk-estimator-id-23\" class=\"sk-toggleable__label  sk-toggleable__label-arrow \">&nbsp;SimpleImputer<a class=\"sk-estimator-doc-link \" rel=\"noreferrer\" target=\"_blank\" href=\"https://scikit-learn.org/1.5/modules/generated/sklearn.impute.SimpleImputer.html\">?<span>Documentation for SimpleImputer</span></a></label><div class=\"sk-toggleable__content \"><pre>SimpleImputer(add_indicator=True, strategy=&#x27;median&#x27;)</pre></div> </div></div></div></div></div></div></div><div class=\"sk-item\"><div class=\"sk-estimator  sk-toggleable\"><input class=\"sk-toggleable__control sk-hidden--visually\" id=\"sk-estimator-id-24\" type=\"checkbox\" ><label for=\"sk-estimator-id-24\" class=\"sk-toggleable__label  sk-toggleable__label-arrow \">&nbsp;RandomForestRegressor<a class=\"sk-estimator-doc-link \" rel=\"noreferrer\" target=\"_blank\" href=\"https://scikit-learn.org/1.5/modules/generated/sklearn.ensemble.RandomForestRegressor.html\">?<span>Documentation for RandomForestRegressor</span></a></label><div class=\"sk-toggleable__content \"><pre>RandomForestRegressor(n_jobs=-1)</pre></div> </div></div></div></div></div></div>"
      ],
      "text/plain": [
       "Pipeline(steps=[('transformer',\n",
       "                 ColumnTransformer(transformers=[('categorical',\n",
       "                                                  Pipeline(steps=[('imputer',\n",
       "                                                                   SimpleImputer(fill_value='<missing>',\n",
       "                                                                                 strategy='constant')),\n",
       "                                                                  ('encoder',\n",
       "                                                                   OrdinalEncoder(handle_unknown='use_encoded_value',\n",
       "                                                                                  unknown_value=-1))]),\n",
       "                                                  ['carrier', 'tailnum',\n",
       "                                                   'origin', 'dest']),\n",
       "                                                 ('numerical',\n",
       "                                                  SimpleImputer(add_indicator=True,\n",
       "                                                                strategy='median'),\n",
       "                                                  ['sched_arr_time',\n",
       "                                                   'sched_dep_time', 'distance',\n",
       "                                                   'month', 'day'])])),\n",
       "                ('model', RandomForestRegressor(n_jobs=-1))])"
      ]
     },
     "execution_count": 36,
     "metadata": {},
     "output_type": "execute_result"
    }
   ],
   "source": [
    "ml_pipe = Pipeline(\n",
    "    [\n",
    "        (\n",
    "            \"transformer\",\n",
    "            ColumnTransformer(\n",
    "                [\n",
    "                    (\n",
    "                        \"categorical\",\n",
    "                        Pipeline(\n",
    "                            [\n",
    "                                (\"imputer\", SimpleImputer(strategy=\"constant\", fill_value=\"<missing>\")),\n",
    "                                (\"encoder\", OrdinalEncoder(handle_unknown=\"use_encoded_value\", unknown_value=-1)),\n",
    "                            ]\n",
    "                        ),\n",
    "                        categorical_features,\n",
    "                    ),\n",
    "                    (\"numerical\", SimpleImputer(strategy=\"median\", add_indicator=True), numerical_features),\n",
    "                ]\n",
    "            ),\n",
    "        ),\n",
    "        (\"model\", RandomForestRegressor(n_jobs=-1)),\n",
    "    ]\n",
    ")\n",
    "ml_pipe"
   ]
  },
  {
   "cell_type": "code",
   "execution_count": 38,
   "metadata": {},
   "outputs": [],
   "source": [
    "model = ml_pipe.fit(X_train, y_train)\n",
    "preds = model.predict(X_test)"
   ]
  },
  {
   "cell_type": "code",
   "execution_count": 41,
   "metadata": {},
   "outputs": [
    {
     "name": "stdout",
     "output_type": "stream",
     "text": [
      "R² Score: 0.2723140780507467\n",
      "Mean absolute error: 23.04493508477165\n",
      "Root mean squared error: 38.128910400074766\n"
     ]
    }
   ],
   "source": [
    "print(f\"R² Score: {r2_score(y_test, preds)}\")\n",
    "print(f\"Mean absolute error: {mean_absolute_error(y_test, preds)}\")\n",
    "print(f\"Root mean squared error: {root_mean_squared_error(y_test, preds)}\")"
   ]
  },
  {
   "cell_type": "code",
   "execution_count": 45,
   "metadata": {},
   "outputs": [],
   "source": [
    "with open(\"../models/v1.pkl\", \"wb\") as file:\n",
    "    pickle.dump(model, file)"
   ]
  }
 ],
 "metadata": {
  "kernelspec": {
   "display_name": "picpay-case-nYT9_Uqh-py3.10",
   "language": "python",
   "name": "python3"
  },
  "language_info": {
   "codemirror_mode": {
    "name": "ipython",
    "version": 3
   },
   "file_extension": ".py",
   "mimetype": "text/x-python",
   "name": "python",
   "nbconvert_exporter": "python",
   "pygments_lexer": "ipython3",
   "version": "3.10.12"
  }
 },
 "nbformat": 4,
 "nbformat_minor": 2
}
